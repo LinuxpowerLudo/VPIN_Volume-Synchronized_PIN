{
 "cells": [
  {
   "cell_type": "code",
   "execution_count": 7,
   "metadata": {},
   "outputs": [
    {
     "data": {
      "text/html": [
       "<div>\n",
       "<style scoped>\n",
       "    .dataframe tbody tr th:only-of-type {\n",
       "        vertical-align: middle;\n",
       "    }\n",
       "\n",
       "    .dataframe tbody tr th {\n",
       "        vertical-align: top;\n",
       "    }\n",
       "\n",
       "    .dataframe thead th {\n",
       "        text-align: right;\n",
       "    }\n",
       "</style>\n",
       "<table border=\"1\" class=\"dataframe\">\n",
       "  <thead>\n",
       "    <tr style=\"text-align: right;\">\n",
       "      <th></th>\n",
       "      <th>high</th>\n",
       "      <th>low</th>\n",
       "      <th>vol</th>\n",
       "      <th>chg</th>\n",
       "      <th>date</th>\n",
       "      <th>time</th>\n",
       "    </tr>\n",
       "  </thead>\n",
       "  <tbody>\n",
       "    <tr>\n",
       "      <th>0</th>\n",
       "      <td>3325.4926</td>\n",
       "      <td>3322.8557</td>\n",
       "      <td>593851100</td>\n",
       "      <td>-2.1253</td>\n",
       "      <td>2015/10/8</td>\n",
       "      <td>9:30:00</td>\n",
       "    </tr>\n",
       "    <tr>\n",
       "      <th>1</th>\n",
       "      <td>3321.7106</td>\n",
       "      <td>3311.7765</td>\n",
       "      <td>281496200</td>\n",
       "      <td>-11.0792</td>\n",
       "      <td>2015/10/8</td>\n",
       "      <td>9:31:00</td>\n",
       "    </tr>\n",
       "    <tr>\n",
       "      <th>2</th>\n",
       "      <td>3310.4106</td>\n",
       "      <td>3308.4939</td>\n",
       "      <td>236541100</td>\n",
       "      <td>-3.1834</td>\n",
       "      <td>2015/10/8</td>\n",
       "      <td>9:32:00</td>\n",
       "    </tr>\n",
       "    <tr>\n",
       "      <th>3</th>\n",
       "      <td>3308.9903</td>\n",
       "      <td>3307.1725</td>\n",
       "      <td>188468100</td>\n",
       "      <td>0.1115</td>\n",
       "      <td>2015/10/8</td>\n",
       "      <td>9:33:00</td>\n",
       "    </tr>\n",
       "    <tr>\n",
       "      <th>4</th>\n",
       "      <td>3315.3184</td>\n",
       "      <td>3308.2525</td>\n",
       "      <td>178743200</td>\n",
       "      <td>6.3512</td>\n",
       "      <td>2015/10/8</td>\n",
       "      <td>9:34:00</td>\n",
       "    </tr>\n",
       "  </tbody>\n",
       "</table>\n",
       "</div>"
      ],
      "text/plain": [
       "        high        low        vol      chg       date     time\n",
       "0  3325.4926  3322.8557  593851100  -2.1253  2015/10/8  9:30:00\n",
       "1  3321.7106  3311.7765  281496200 -11.0792  2015/10/8  9:31:00\n",
       "2  3310.4106  3308.4939  236541100  -3.1834  2015/10/8  9:32:00\n",
       "3  3308.9903  3307.1725  188468100   0.1115  2015/10/8  9:33:00\n",
       "4  3315.3184  3308.2525  178743200   6.3512  2015/10/8  9:34:00"
      ]
     },
     "execution_count": 7,
     "metadata": {},
     "output_type": "execute_result"
    }
   ],
   "source": [
    "df.head()"
   ]
  },
  {
   "cell_type": "code",
   "execution_count": 61,
   "metadata": {
    "scrolled": true
   },
   "outputs": [
    {
     "data": {
      "text/html": [
       "<div>\n",
       "<style scoped>\n",
       "    .dataframe tbody tr th:only-of-type {\n",
       "        vertical-align: middle;\n",
       "    }\n",
       "\n",
       "    .dataframe tbody tr th {\n",
       "        vertical-align: top;\n",
       "    }\n",
       "\n",
       "    .dataframe thead th {\n",
       "        text-align: right;\n",
       "    }\n",
       "</style>\n",
       "<table border=\"1\" class=\"dataframe\">\n",
       "  <thead>\n",
       "    <tr style=\"text-align: right;\">\n",
       "      <th></th>\n",
       "      <th>high</th>\n",
       "      <th>low</th>\n",
       "      <th>vol</th>\n",
       "      <th>chg</th>\n",
       "      <th>date</th>\n",
       "      <th>time</th>\n",
       "    </tr>\n",
       "  </thead>\n",
       "  <tbody>\n",
       "    <tr>\n",
       "      <th>0</th>\n",
       "      <td>3325.4926</td>\n",
       "      <td>3322.8557</td>\n",
       "      <td>593851100</td>\n",
       "      <td>-2.1253</td>\n",
       "      <td>2015/10/8</td>\n",
       "      <td>9:30:00</td>\n",
       "    </tr>\n",
       "    <tr>\n",
       "      <th>1</th>\n",
       "      <td>3321.7106</td>\n",
       "      <td>3311.7765</td>\n",
       "      <td>281496200</td>\n",
       "      <td>-11.0792</td>\n",
       "      <td>2015/10/8</td>\n",
       "      <td>9:31:00</td>\n",
       "    </tr>\n",
       "    <tr>\n",
       "      <th>2</th>\n",
       "      <td>3310.4106</td>\n",
       "      <td>3308.4939</td>\n",
       "      <td>236541100</td>\n",
       "      <td>-3.1834</td>\n",
       "      <td>2015/10/8</td>\n",
       "      <td>9:32:00</td>\n",
       "    </tr>\n",
       "    <tr>\n",
       "      <th>3</th>\n",
       "      <td>3308.9903</td>\n",
       "      <td>3307.1725</td>\n",
       "      <td>188468100</td>\n",
       "      <td>0.1115</td>\n",
       "      <td>2015/10/8</td>\n",
       "      <td>9:33:00</td>\n",
       "    </tr>\n",
       "    <tr>\n",
       "      <th>4</th>\n",
       "      <td>3315.3184</td>\n",
       "      <td>3308.2525</td>\n",
       "      <td>178743200</td>\n",
       "      <td>6.3512</td>\n",
       "      <td>2015/10/8</td>\n",
       "      <td>9:34:00</td>\n",
       "    </tr>\n",
       "  </tbody>\n",
       "</table>\n",
       "</div>"
      ],
      "text/plain": [
       "        high        low        vol      chg       date     time\n",
       "0  3325.4926  3322.8557  593851100  -2.1253  2015/10/8  9:30:00\n",
       "1  3321.7106  3311.7765  281496200 -11.0792  2015/10/8  9:31:00\n",
       "2  3310.4106  3308.4939  236541100  -3.1834  2015/10/8  9:32:00\n",
       "3  3308.9903  3307.1725  188468100   0.1115  2015/10/8  9:33:00\n",
       "4  3315.3184  3308.2525  178743200   6.3512  2015/10/8  9:34:00"
      ]
     },
     "execution_count": 61,
     "metadata": {},
     "output_type": "execute_result"
    }
   ],
   "source": [
    "df[np.logical_not(df['date'] <> \"2015/10/8\")].head()"
   ]
  },
  {
   "cell_type": "code",
   "execution_count": 42,
   "metadata": {},
   "outputs": [],
   "source": [
    "__author__ = 'FENG Yutong'\n",
    "__credits__='FANG Boyue'\n",
    "\n",
    "'''The file is intended for VPIN calculation'''\n",
    "\n",
    "\n",
    "import pandas\n",
    "from math import *\n",
    "import math\n",
    "import numpy as np\n",
    "\n",
    "def std(list):\n",
    "    element = 0 \n",
    "    for item in list:\n",
    "        element = element + float((item**2)/( len(list)))\n",
    "    return math.sqrt(element)\n",
    "\n",
    "def phi(x):\n",
    "    #'Cumulative distribution function for the standard normal distribution'\n",
    "    return (1.0 + erf(x / sqrt(2.0))) / 2.0\n",
    "\n",
    "def calx(v_i,delta_p_i,sigma):\n",
    "    x = v_i * phi(delta_p_i/sigma)\n",
    "    return x\n",
    "\n",
    "def main():\n",
    "    global df\n",
    "    df = pandas.read_table(\"data.txt\").dropna()\n",
    "\n",
    "if __name__ == '__main__':\n",
    "    main()"
   ]
  },
  {
   "cell_type": "code",
   "execution_count": 45,
   "metadata": {},
   "outputs": [],
   "source": [
    "high = df[\"high\"].tolist()\n",
    "low = df[\"low\"].tolist()\n",
    "vol = df[\"vol\"].tolist()\n",
    "chg =df[\"chg\"].tolist()\n",
    "date = df[\"date\"].tolist()\n",
    "time = df[\"time\"].tolist()\n",
    "sigma = std(chg) #calculate standard deviation\n",
    "totalvol = sum(vol)"
   ]
  },
  {
   "cell_type": "code",
   "execution_count": 72,
   "metadata": {
    "scrolled": true
   },
   "outputs": [],
   "source": [
    "dateset = tuple(set(date))\n",
    "vpin=[]\n",
    "for eachdate in dateset:\n",
    "    dateslice = df[np.logical_not(df['date'] <> eachdate)]\n",
    "    datevol = dataslice['vol'].sum()\n",
    "    vbs = datevol/50\n",
    "    \n",
    "    '''list to store results'''\n",
    "    delta_p_i = []\n",
    "    v_i = []\n",
    "    x=[]\n",
    "    \n",
    "    '''convert slice to list'''\n",
    "    highslice = dateslice[\"high\"].tolist()\n",
    "    lowslice = dateslice[\"low\"].tolist()\n",
    "    volslice = dateslice[\"vol\"].tolist()\n",
    "    \n",
    "    '''generate basket'''\n",
    "    highbas=[]\n",
    "    lowbas=[]\n",
    "    volbas=[]\n",
    "    \n",
    "    '''start filling basket'''\n",
    "    for i in range(len(dateslice.index)):\n",
    "        highbas.append(highslice[i])\n",
    "        lowbas.append(lowslice[i])\n",
    "        volbas.append(volslice[i])\n",
    "        '''pop last element if vol exceeds.'''\n",
    "        if sum(volbas) > vbs:\n",
    "            v_i.append(sum(volbas[0:-1]))  \n",
    "            delta_p_i.append(abs(max(highbas)-min(lowbas)))\n",
    "            highbas = highbas[-1:] \n",
    "            lowbas = lowbas[-1:]\n",
    "            volbas = volbas[-1:]\n",
    "    for i in range(len(v_i)):\n",
    "        x.append(calx(v_i[i],delta_p_i[i],sigma))\n",
    "    v_tau_b=sum(x)\n",
    "    dateitem= abs(2*v_tau_b - vbs)\n",
    "    vpin.append(dateitem/totalvol)    "
   ]
  },
  {
   "cell_type": "code",
   "execution_count": 62,
   "metadata": {},
   "outputs": [
    {
     "name": "stdout",
     "output_type": "stream",
     "text": [
      "732\n",
      "732\n"
     ]
    }
   ],
   "source": [
    "x = list(set(date))\n",
    "x.sort()\n",
    "print(len(x))\n",
    "print(len(vpin))"
   ]
  },
  {
   "cell_type": "code",
   "execution_count": 63,
   "metadata": {},
   "outputs": [
    {
     "name": "stdout",
     "output_type": "stream",
     "text": [
      "Populating the interactive namespace from numpy and matplotlib\n"
     ]
    },
    {
     "name": "stderr",
     "output_type": "stream",
     "text": [
      "C:\\ProgramData\\Anaconda3\\envs\\py2\\lib\\site-packages\\IPython\\core\\magics\\pylab.py:161: UserWarning: pylab import has clobbered these variables: ['cosh', 'ldexp', 'hypot', 'tan', 'isnan', 'log', 'fabs', 'floor', 'sqrt', 'frexp', 'degrees', 'pi', 'log10', 'sin', 'fmod', 'copysign', 'cos', 'ceil', 'isinf', 'sinh', 'trunc', 'std', 'expm1', 'e', 'tanh', 'radians', 'modf', 'time', 'exp', 'log1p', 'gamma']\n",
      "`%matplotlib` prevents importing * from pylab and numpy\n",
      "  \"\\n`%matplotlib` prevents importing * from pylab and numpy\"\n"
     ]
    },
    {
     "data": {
      "image/png": "[encoded data removed]",
      "text/plain": [
       "<matplotlib.figure.Figure at 0x903cf98>"
      ]
     },
     "metadata": {},
     "output_type": "display_data"
    }
   ],
   "source": [
    "import matplotlib.pyplot as plt\n",
    "import numpy as np\n",
    " \n",
    "p1= x\n",
    "p2= vpin\n",
    " \n",
    "#创建绘图图表对象，可以不显式创建，跟cv2中的cv2.namedWindow()用法差不多\n",
    "plt.figure('Draw')\n",
    "plt.plot(p1,p2)  # plot绘制折线图\n",
    "plt.draw()  # 显示绘图\n",
    "plt.pause(5)  #显示5秒\n",
    "plt.savefig(\"easyplot01.jpg\")  #保存图象\n",
    "plt.close()   #关闭图表"
   ]
  },
  {
   "cell_type": "code",
   "execution_count": 68,
   "metadata": {},
   "outputs": [],
   "source": [
    "import xlrd\n",
    "from xlrd import open_workbook\n",
    "book = open_workbook('random.xls')\n",
    "sheet1 = book.sheet_by_index(0)\n",
    "data = vpin\n",
    "\n",
    "for i in xrange(sheet1.nrows):\n",
    "    data.append(sheet1.cell(i,1).value)"
   ]
  }
 ],
 "metadata": {
  "kernelspec": {
   "display_name": "Python 2",
   "language": "python",
   "name": "python2"
  },
  "language_info": {
   "codemirror_mode": {
    "name": "ipython",
    "version": 2
   },
   "file_extension": ".py",
   "mimetype": "text/x-python",
   "name": "python",
   "nbconvert_exporter": "python",
   "pygments_lexer": "ipython2",
   "version": "2.7.14"
  }
 },
 "nbformat": 4,
 "nbformat_minor": 2
}
